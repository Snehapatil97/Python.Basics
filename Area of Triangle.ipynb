{
 "cells": [
  {
   "cell_type": "code",
   "execution_count": 1,
   "id": "f725be56",
   "metadata": {},
   "outputs": [
    {
     "name": "stdout",
     "output_type": "stream",
     "text": [
      "15\n",
      "20\n",
      "150.0\n"
     ]
    }
   ],
   "source": [
    "#How to calculate area of Triangle using base and height  of the triangle in python\n",
    "\n",
    "#Height is a, base is b\n",
    "\n",
    "\n",
    "\n",
    "def triangle_area(base, height):\n",
    "    x= 0.5 * base * height\n",
    "    return x\n",
    "\n",
    "base_length = int(input())\n",
    "height_length = int(input())\n",
    "\n",
    "area = triangle_area(base_length, height_length)\n",
    "print(area)\n",
    "\n",
    "\n",
    "\n",
    " "
   ]
  },
  {
   "cell_type": "code",
   "execution_count": null,
   "id": "1338a92c",
   "metadata": {},
   "outputs": [],
   "source": [
    "#How to calculate the area of Triangle with sides a , b and c\n",
    "\n"
   ]
  },
  {
   "cell_type": "code",
   "execution_count": null,
   "id": "d4c4068d",
   "metadata": {},
   "outputs": [],
   "source": []
  },
  {
   "cell_type": "code",
   "execution_count": null,
   "id": "11ac6c1e",
   "metadata": {},
   "outputs": [],
   "source": []
  },
  {
   "cell_type": "code",
   "execution_count": null,
   "id": "31280b26",
   "metadata": {},
   "outputs": [],
   "source": []
  },
  {
   "cell_type": "code",
   "execution_count": null,
   "id": "1df88486",
   "metadata": {},
   "outputs": [],
   "source": []
  },
  {
   "cell_type": "code",
   "execution_count": null,
   "id": "05c7a7f4",
   "metadata": {},
   "outputs": [],
   "source": []
  },
  {
   "cell_type": "code",
   "execution_count": null,
   "id": "6702bf91",
   "metadata": {},
   "outputs": [],
   "source": []
  },
  {
   "cell_type": "code",
   "execution_count": null,
   "id": "8bc05be5",
   "metadata": {},
   "outputs": [],
   "source": []
  },
  {
   "cell_type": "code",
   "execution_count": null,
   "id": "437402ba",
   "metadata": {},
   "outputs": [],
   "source": []
  },
  {
   "cell_type": "code",
   "execution_count": 16,
   "id": "30eaab0e",
   "metadata": {},
   "outputs": [
    {
     "name": "stdout",
     "output_type": "stream",
     "text": [
      "Enter the length of side A: 10\n",
      "Enter the length of side B: 10\n",
      "Enter the length of side C: 5\n",
      "Area of the triangle is (24.206145913796355+0j)\n"
     ]
    }
   ],
   "source": [
    "#How to calculate the area of Triangle with sides a, b and c\n",
    "\n",
    "import cmath\n",
    "\n",
    "def area_triangle(a, b, c):\n",
    "    s = (a + b + c) / 2\n",
    "    area = cmath.sqrt(s*(s-a)*(s-b)*(s-c))\n",
    "    return area\n",
    "\n",
    "side_a = int(input(\"Enter the length of side A: \"))\n",
    "side_b = int(input(\"Enter the length of side B: \"))\n",
    "side_c = int(input(\"Enter the length of side C: \"))\n",
    "\n",
    "area = area_triangle(side_a, side_b, side_c)\n",
    "print(\"Area of the triangle is\", area)\n",
    "\n"
   ]
  },
  {
   "cell_type": "code",
   "execution_count": null,
   "id": "377b8bc4",
   "metadata": {},
   "outputs": [],
   "source": []
  },
  {
   "cell_type": "code",
   "execution_count": null,
   "id": "20d08f23",
   "metadata": {},
   "outputs": [],
   "source": []
  }
 ],
 "metadata": {
  "kernelspec": {
   "display_name": "Python 3 (ipykernel)",
   "language": "python",
   "name": "python3"
  },
  "language_info": {
   "codemirror_mode": {
    "name": "ipython",
    "version": 3
   },
   "file_extension": ".py",
   "mimetype": "text/x-python",
   "name": "python",
   "nbconvert_exporter": "python",
   "pygments_lexer": "ipython3",
   "version": "3.11.5"
  }
 },
 "nbformat": 4,
 "nbformat_minor": 5
}
