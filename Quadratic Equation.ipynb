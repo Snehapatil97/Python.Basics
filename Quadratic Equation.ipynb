{
 "cells": [
  {
   "cell_type": "code",
   "execution_count": 5,
   "id": "5d9a594e",
   "metadata": {},
   "outputs": [
    {
     "name": "stdout",
     "output_type": "stream",
     "text": [
      "The solutions are (-1.25-1.3919410907075054j) and (-1.25+1.3919410907075054j)\n",
      "The solution for quadratic eqquation is ((-1.25-1.3919410907075054j), (-1.25+1.3919410907075054j))\n"
     ]
    }
   ],
   "source": [
    "import cmath\n",
    "\n",
    "a=2\n",
    "b=5\n",
    "c=7\n",
    "\n",
    "#calculate the discriminant\n",
    "d = (b**2) - (4*a*c)\n",
    "\n",
    "#find two  solutions\n",
    "sol1 = (-b-cmath.sqrt(d))/(2*a)\n",
    "sol2 = (-b+cmath.sqrt(d))/(2*a)\n",
    "\n",
    "print('The solutions are {0} and {1}'.format(sol1,sol2))\n",
    "\n",
    "print(\"The solution for quadratic eqquation is\", (sol1,sol2))\n"
   ]
  },
  {
   "cell_type": "code",
   "execution_count": null,
   "id": "6b722bb2",
   "metadata": {},
   "outputs": [],
   "source": []
  }
 ],
 "metadata": {
  "kernelspec": {
   "display_name": "Python 3 (ipykernel)",
   "language": "python",
   "name": "python3"
  },
  "language_info": {
   "codemirror_mode": {
    "name": "ipython",
    "version": 3
   },
   "file_extension": ".py",
   "mimetype": "text/x-python",
   "name": "python",
   "nbconvert_exporter": "python",
   "pygments_lexer": "ipython3",
   "version": "3.11.5"
  }
 },
 "nbformat": 4,
 "nbformat_minor": 5
}
